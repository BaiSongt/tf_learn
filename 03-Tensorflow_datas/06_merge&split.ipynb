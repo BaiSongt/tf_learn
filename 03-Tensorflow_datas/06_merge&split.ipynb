{
 "cells": [
  {
   "cell_type": "markdown",
   "id": "e94d5b1a",
   "metadata": {},
   "source": [
    "# Merge & Split\n",
    "- concat\n",
    "- split\n",
    "- stack\n",
    "- unstack\n",
    "------\n",
    "1. **张量合并**：\n",
    "   - 使用 `tf.concat` 函数可以将多个张量沿指定轴合并。\n",
    "   - 参数 `axis` 指定合并的维度，`axis=0` 表示沿行方向合并，`axis=1` 表示沿列方向合并。\n",
    "\n",
    "2. **张量分割**：\n",
    "   - 使用 `tf.split` 函数可以将一个张量分割为多个子张量。\n",
    "   - 参数 `num_or_size_splits` 指定分割的数量或每个子张量的大小。\n",
    "   - 参数 `axis` 指定分割的维度。"
   ]
  },
  {
   "cell_type": "code",
   "execution_count": 1,
   "id": "a87a496c",
   "metadata": {},
   "outputs": [],
   "source": [
    "# 导入 TensorFlow\n",
    "import tensorflow as tf\n",
    "\n",
    "# 创建两个张量\n",
    "tensor1 = tf.constant([[1, 2], [3, 4]])\n",
    "tensor2 = tf.constant([[5, 6], [7, 8]])"
   ]
  },
  {
   "cell_type": "code",
   "execution_count": 2,
   "id": "fc923508",
   "metadata": {},
   "outputs": [
    {
     "name": "stdout",
     "output_type": "stream",
     "text": [
      "沿轴0合并的结果：\n",
      " [[1 2]\n",
      " [3 4]\n",
      " [5 6]\n",
      " [7 8]]\n",
      "沿轴1合并的结果：\n",
      " [[1 2 5 6]\n",
      " [3 4 7 8]]\n"
     ]
    }
   ],
   "source": [
    "# 合并张量（沿不同轴）\n",
    "# axis=0 表示沿行方向合并（垂直合并）\n",
    "concat_axis0 = tf.concat([tensor1, tensor2], axis=0)\n",
    "print(\"沿轴0合并的结果：\\n\", concat_axis0.numpy())\n",
    "\n",
    "# axis=1 表示沿列方向合并（水平合并）\n",
    "concat_axis1 = tf.concat([tensor1, tensor2], axis=1)\n",
    "print(\"沿轴1合并的结果：\\n\", concat_axis1.numpy())"
   ]
  },
  {
   "cell_type": "code",
   "execution_count": 3,
   "id": "e761627f",
   "metadata": {},
   "outputs": [
    {
     "name": "stdout",
     "output_type": "stream",
     "text": [
      "沿轴0分割的结果：\n",
      "子张量 0:\n",
      " [[1 2]\n",
      " [3 4]]\n",
      "子张量 1:\n",
      " [[5 6]\n",
      " [7 8]]\n",
      "沿轴1分割的结果：\n",
      "子张量 0:\n",
      " [[1 2]\n",
      " [3 4]]\n",
      "子张量 1:\n",
      " [[5 6]\n",
      " [7 8]]\n"
     ]
    }
   ],
   "source": [
    "# 分割张量\n",
    "# 将张量分割为 2 个子张量，沿轴 0 分割\n",
    "split_axis0 = tf.split(concat_axis0, num_or_size_splits=2, axis=0)\n",
    "print(\"沿轴0分割的结果：\")\n",
    "for i, t in enumerate(split_axis0):\n",
    "    print(f\"子张量 {i}:\\n\", t.numpy())\n",
    "\n",
    "# 将张量分割为 2 个子张量，沿轴 1 分割\n",
    "split_axis1 = tf.split(concat_axis1, num_or_size_splits=2, axis=1)\n",
    "print(\"沿轴1分割的结果：\")\n",
    "for i, t in enumerate(split_axis1):\n",
    "    print(f\"子张量 {i}:\\n\", t.numpy())"
   ]
  },
  {
   "cell_type": "markdown",
   "id": "a6e9be6e",
   "metadata": {},
   "source": [
    "# 张量堆叠与拆分（Stack & Unstack） \n",
    "- creat new dim\n",
    "\n",
    "## 1. **张量堆叠（Stack）**\n",
    "- 使用 `tf.stack` 函数可以将多个张量沿新轴堆叠。\n",
    "- 参数 `axis` 指定堆叠的维度，默认值为 `0`，表示在最外层添加一个新维度。\n",
    "\n",
    "### 示例代码："
   ]
  },
  {
   "cell_type": "code",
   "execution_count": 4,
   "id": "04875b45",
   "metadata": {},
   "outputs": [
    {
     "name": "stdout",
     "output_type": "stream",
     "text": [
      "沿轴0堆叠的结果：\n",
      " [[[1 2]\n",
      "  [3 4]]\n",
      "\n",
      " [[5 6]\n",
      "  [7 8]]]\n",
      "沿轴1堆叠的结果：\n",
      " [[[1 2]\n",
      "  [5 6]]\n",
      "\n",
      " [[3 4]\n",
      "  [7 8]]]\n"
     ]
    }
   ],
   "source": [
    "# 堆叠张量\n",
    "stacked_tensor = tf.stack([tensor1, tensor2], axis=0)  # 沿轴0堆叠\n",
    "print(\"沿轴0堆叠的结果：\\n\", stacked_tensor.numpy())\n",
    "\n",
    "stacked_tensor_axis1 = tf.stack([tensor1, tensor2], axis=1)  # 沿轴1堆叠\n",
    "print(\"沿轴1堆叠的结果：\\n\", stacked_tensor_axis1.numpy())"
   ]
  },
  {
   "cell_type": "markdown",
   "id": "88bdf645",
   "metadata": {},
   "source": [
    "## 2. **张量拆分（Unstack）**\n",
    "- 使用 `tf.unstack` 函数可以将一个张量沿指定轴拆分为多个张量。\n",
    "- 参数 `axis` 指定拆分的维度，默认值为 `0`。\n",
    "\n",
    "### 示例代码："
   ]
  },
  {
   "cell_type": "code",
   "execution_count": 5,
   "id": "a19126b1",
   "metadata": {},
   "outputs": [
    {
     "name": "stdout",
     "output_type": "stream",
     "text": [
      "沿轴0拆分的结果：\n",
      "子张量 0:\n",
      " [[1 2]\n",
      " [3 4]]\n",
      "子张量 1:\n",
      " [[5 6]\n",
      " [7 8]]\n",
      "沿轴1拆分的结果：\n",
      "子张量 0:\n",
      " [[1 2]\n",
      " [3 4]]\n",
      "子张量 1:\n",
      " [[5 6]\n",
      " [7 8]]\n"
     ]
    }
   ],
   "source": [
    "# 拆分张量\n",
    "unstacked_tensors = tf.unstack(stacked_tensor, axis=0)  # 沿轴0拆分\n",
    "print(\"沿轴0拆分的结果：\")\n",
    "for i, t in enumerate(unstacked_tensors):\n",
    "  print(f\"子张量 {i}:\\n\", t.numpy())\n",
    "\n",
    "unstacked_tensors_axis1 = tf.unstack(stacked_tensor_axis1, axis=1)  # 沿轴1拆分\n",
    "print(\"沿轴1拆分的结果：\")\n",
    "for i, t in enumerate(unstacked_tensors_axis1):\n",
    "  print(f\"子张量 {i}:\\n\", t.numpy())"
   ]
  },
  {
   "cell_type": "markdown",
   "id": "40d3cdbf",
   "metadata": {},
   "source": [
    "## 3. **应用场景**\n",
    "- 堆叠操作常用于将多个张量合并为一个整体，便于批量处理。\n",
    "- 拆分操作常用于将一个批量张量分解为单个样本，便于逐个处理。"
   ]
  }
 ],
 "metadata": {
  "kernelspec": {
   "display_name": "tf",
   "language": "python",
   "name": "python3"
  },
  "language_info": {
   "codemirror_mode": {
    "name": "ipython",
    "version": 3
   },
   "file_extension": ".py",
   "mimetype": "text/x-python",
   "name": "python",
   "nbconvert_exporter": "python",
   "pygments_lexer": "ipython3",
   "version": "3.10.13"
  }
 },
 "nbformat": 4,
 "nbformat_minor": 5
}
