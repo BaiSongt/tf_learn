{
 "cells": [
  {
   "cell_type": "markdown",
   "id": "da3e3621",
   "metadata": {},
   "source": [
    "# 广播机制简介：\n",
    "- 广播（Broadcasting）是指在进行张量操作时，TensorFlow 会自动扩展较小的张量，使其与较大的张量具有相同的形状。\n",
    "- 这种机制可以简化代码编写，避免手动调整张量的形状。\n"
   ]
  },
  {
   "cell_type": "code",
   "execution_count": 6,
   "id": "445f7e02",
   "metadata": {},
   "outputs": [
    {
     "name": "stdout",
     "output_type": "stream",
     "text": [
      " tensor_a + scalar_b\n",
      "示例 1 结果: [3. 4. 5.]\n"
     ]
    }
   ],
   "source": [
    "import tensorflow as tf\n",
    "\n",
    "# 示例 1: 标量与张量的广播\n",
    "# 创建一个张量\n",
    "tensor_a = tf.constant([1, 2, 3], dtype=tf.float32)  # 形状为 (3,)\n",
    "scalar_b = tf.constant(2.0, dtype=tf.float32)       # 标量，形状为 ()\n",
    "\n",
    "# 广播机制会将标量扩展为与张量相同的形状\n",
    "result_1 = tensor_a + scalar_b  # 等价于 [1+2, 2+2, 3+2]\n",
    "\n",
    "print(\" tensor_a + scalar_b\")\n",
    "print(\"示例 1 结果:\", result_1.numpy())\n"
   ]
  },
  {
   "cell_type": "code",
   "execution_count": 11,
   "id": "65c22afe",
   "metadata": {},
   "outputs": [
    {
     "name": "stdout",
     "output_type": "stream",
     "text": [
      "tensor_c : (3, 1) \n",
      " [[1.]\n",
      " [2.]\n",
      " [3.]]\n",
      "tensor_d : (3,) \n",
      " [10. 20. 30.]\n",
      "示例 2 结果:\n",
      " [[11. 21. 31.]\n",
      " [12. 22. 32.]\n",
      " [13. 23. 33.]]\n"
     ]
    }
   ],
   "source": [
    "# 示例 2: 不同形状张量的广播\n",
    "# 创建两个张量\n",
    "tensor_c = tf.constant([[1], [2], [3]], dtype=tf.float32)  # 形状为 (3, 1)\n",
    "tensor_d = tf.constant([10, 20, 30], dtype=tf.float32)     # 形状为 (3,)\n",
    "\n",
    "# 广播机制会将 tensor_c 扩展为 (3, 3)，tensor_d 扩展为 (3, 3)\n",
    "result_2 = tensor_c + tensor_d  # 逐元素相加\n",
    "print(f\"tensor_c : {tensor_c.shape} \\n {tensor_c.numpy()}\")\n",
    "print(f\"tensor_d : {tensor_d.shape} \\n {tensor_d.numpy()}\")\n",
    "print(\"示例 2 结果:\\n\", result_2.numpy())"
   ]
  },
  {
   "cell_type": "code",
   "execution_count": 4,
   "id": "4fd76ef1",
   "metadata": {},
   "outputs": [
    {
     "name": "stdout",
     "output_type": "stream",
     "text": [
      "示例 3 结果:\n",
      " [[ 1.  4.  9.]\n",
      " [ 4. 10. 18.]]\n"
     ]
    }
   ],
   "source": [
    "# 示例 3: 广播与矩阵运算结合\n",
    "# 创建两个张量\n",
    "matrix_e = tf.constant([[1, 2, 3], [4, 5, 6]], dtype=tf.float32)  # 形状为 (2, 3)\n",
    "vector_f = tf.constant([1, 2, 3], dtype=tf.float32)               # 形状为 (3,)\n",
    "\n",
    "# 广播机制会将 vector_f 扩展为 (2, 3)\n",
    "result_3 = matrix_e * vector_f  # 逐元素相乘\n",
    "print(\"示例 3 结果:\\n\", result_3.numpy())"
   ]
  },
  {
   "cell_type": "markdown",
   "id": "5dfcca96",
   "metadata": {},
   "source": [
    "\n",
    "# 注意事项：\n",
    "- 1. 广播机制要求两个张量的形状从后往前对齐，且每一维度要么相等，要么其中一个为 1。\n",
    "- 2. 如果形状不满足广播规则，会抛出错误。"
   ]
  },
  {
   "cell_type": "markdown",
   "id": "ac60b2cb",
   "metadata": {},
   "source": [
    "![Broadcasting](广播机制.png)"
   ]
  }
 ],
 "metadata": {
  "kernelspec": {
   "display_name": "tf",
   "language": "python",
   "name": "python3"
  },
  "language_info": {
   "codemirror_mode": {
    "name": "ipython",
    "version": 3
   },
   "file_extension": ".py",
   "mimetype": "text/x-python",
   "name": "python",
   "nbconvert_exporter": "python",
   "pygments_lexer": "ipython3",
   "version": "3.10.13"
  }
 },
 "nbformat": 4,
 "nbformat_minor": 5
}
