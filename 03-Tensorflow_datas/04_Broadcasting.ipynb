{
 "cells": [
  {
   "cell_type": "markdown",
   "id": "da3e3621",
   "metadata": {},
   "source": [
    "# 广播机制简介：\n",
    "- 广播（Broadcasting）是指在进行张量操作时，TensorFlow 会自动扩展较小的张量，使其与较大的张量具有相同的形状。\n",
    "- 这种机制可以简化代码编写，避免手动调整张量的形状。\n"
   ]
  },
  {
   "cell_type": "code",
   "execution_count": 6,
   "id": "445f7e02",
   "metadata": {},
   "outputs": [
    {
     "name": "stdout",
     "output_type": "stream",
     "text": [
      " tensor_a + scalar_b\n",
      "示例 1 结果: [3. 4. 5.]\n"
     ]
    }
   ],
   "source": [
    "import tensorflow as tf\n",
    "\n",
    "# 示例 1: 标量与张量的广播\n",
    "# 创建一个张量\n",
    "tensor_a = tf.constant([1, 2, 3], dtype=tf.float32)  # 形状为 (3,)\n",
    "scalar_b = tf.constant(2.0, dtype=tf.float32)       # 标量，形状为 ()\n",
    "\n",
    "# 广播机制会将标量扩展为与张量相同的形状\n",
    "result_1 = tensor_a + scalar_b  # 等价于 [1+2, 2+2, 3+2]\n",
    "\n",
    "print(\" tensor_a + scalar_b\")\n",
    "print(\"示例 1 结果:\", result_1.numpy())\n"
   ]
  },
  {
   "cell_type": "code",
   "execution_count": 11,
   "id": "65c22afe",
   "metadata": {},
   "outputs": [
    {
     "name": "stdout",
     "output_type": "stream",
     "text": [
      "tensor_c : (3, 1) \n",
      " [[1.]\n",
      " [2.]\n",
      " [3.]]\n",
      "tensor_d : (3,) \n",
      " [10. 20. 30.]\n",
      "示例 2 结果:\n",
      " [[11. 21. 31.]\n",
      " [12. 22. 32.]\n",
      " [13. 23. 33.]]\n"
     ]
    }
   ],
   "source": [
    "# 示例 2: 不同形状张量的广播\n",
    "# 创建两个张量\n",
    "tensor_c = tf.constant([[1], [2], [3]], dtype=tf.float32)  # 形状为 (3, 1)\n",
    "tensor_d = tf.constant([10, 20, 30], dtype=tf.float32)     # 形状为 (3,)\n",
    "\n",
    "# 广播机制会将 tensor_c 扩展为 (3, 3)，tensor_d 扩展为 (3, 3)\n",
    "result_2 = tensor_c + tensor_d  # 逐元素相加\n",
    "print(f\"tensor_c : {tensor_c.shape} \\n {tensor_c.numpy()}\")\n",
    "print(f\"tensor_d : {tensor_d.shape} \\n {tensor_d.numpy()}\")\n",
    "print(\"示例 2 结果:\\n\", result_2.numpy())"
   ]
  },
  {
   "cell_type": "code",
   "execution_count": 4,
   "id": "4fd76ef1",
   "metadata": {},
   "outputs": [
    {
     "name": "stdout",
     "output_type": "stream",
     "text": [
      "示例 3 结果:\n",
      " [[ 1.  4.  9.]\n",
      " [ 4. 10. 18.]]\n"
     ]
    }
   ],
   "source": [
    "# 示例 3: 广播与矩阵运算结合\n",
    "# 创建两个张量\n",
    "matrix_e = tf.constant([[1, 2, 3], [4, 5, 6]], dtype=tf.float32)  # 形状为 (2, 3)\n",
    "vector_f = tf.constant([1, 2, 3], dtype=tf.float32)               # 形状为 (3,)\n",
    "\n",
    "# 广播机制会将 vector_f 扩展为 (2, 3)\n",
    "result_3 = matrix_e * vector_f  # 逐元素相乘\n",
    "print(\"示例 3 结果:\\n\", result_3.numpy())"
   ]
  },
  {
   "cell_type": "markdown",
   "id": "5dfcca96",
   "metadata": {},
   "source": [
    "\n",
    "# 注意事项：\n",
    "- 1. 广播机制要求两个张量的形状从后往前对齐，且每一维度要么相等，要么其中一个为 1。\n",
    "- 2. 如果形状不满足广播规则，会抛出错误。"
   ]
  },
  {
   "cell_type": "markdown",
   "id": "ac60b2cb",
   "metadata": {},
   "source": [
    "![Broadcasting](广播机制.png)"
   ]
  },
  {
   "cell_type": "markdown",
   "id": "7833410a",
   "metadata": {},
   "source": [
    "## TensorFlow 中 Broadcasting 的条件与对齐方式\n",
    "\n",
    "### Broadcasting 条件：\n",
    "1. **从后往前对齐**：两个张量的形状需要从最后一个维度开始对齐。\n",
    "2. **维度匹配规则**：\n",
    "  - 如果两个张量在某个维度的大小相同，则该维度可以进行操作。\n",
    "  - 如果其中一个张量在某个维度的大小为 1，则可以扩展为与另一个张量相同的大小。\n",
    "  - 如果上述条件均不满足，则会抛出错误。\n",
    "\n",
    "### 对齐方式：\n",
    "- Broadcasting 会自动扩展较小的张量，使其形状与较大的张量匹配。\n",
    "- 扩展的方式是将大小为 1 的维度沿该维度复制，直到匹配目标形状。\n",
    "\n",
    "### 示例：\n",
    "- 张量 A 的形状为 `(3, 1)`，张量 B 的形状为 `(3,)`：\n",
    "  - 从后往前对齐：\n",
    "   - A 的最后一维为 `1`，B 的最后一维为 `3`，满足广播条件。\n",
    "   - A 会被扩展为 `(3, 3)`，然后与 B 进行逐元素操作。\n",
    "- 张量 C 的形状为 `(2, 3)`，张量 D 的形状为 `(3,)`：\n",
    "  - 从后往前对齐：\n",
    "   - C 的最后一维为 `3`，D 的最后一维为 `3`，满足广播条件。\n",
    "   - D 会被扩展为 `(2, 3)`，然后与 C 进行逐元素操作。\n",
    "\n",
    "### 注意事项：\n",
    "- Broadcasting 不会修改原始张量的形状，而是生成一个新的张量。\n",
    "- 如果两个张量的形状完全不兼容，则会抛出错误。\n"
   ]
  },
  {
   "cell_type": "markdown",
   "id": "06eb9ec5",
   "metadata": {},
   "source": [
    "## 隐式扩张"
   ]
  },
  {
   "cell_type": "code",
   "execution_count": 13,
   "id": "cbcf8945",
   "metadata": {},
   "outputs": [
    {
     "name": "stdout",
     "output_type": "stream",
     "text": [
      "隐式广播结果 (result_implicit):\n",
      " [[2. 3. 4.]\n",
      " [3. 4. 5.]\n",
      " [4. 5. 6.]]\n"
     ]
    }
   ],
   "source": [
    "# 隐式扩展示例\n",
    "# 创建两个形状不同的张量\n",
    "tensor_x = tf.constant([[1, 2, 3]], dtype=tf.float32)  # 形状为 (1, 3)\n",
    "tensor_y = tf.constant([[1], [2], [3]], dtype=tf.float32)  # 形状为 (3, 1)\n",
    "\n",
    "# 隐式广播：TensorFlow 会自动扩展张量的形状\n",
    "# tensor_x 会被扩展为 (3, 3)，tensor_y 也会被扩展为 (3, 3)\n",
    "result_implicit = tensor_x + tensor_y  # 逐元素相加\n",
    "print(\"隐式广播结果 (result_implicit):\\n\", result_implicit.numpy())"
   ]
  },
  {
   "cell_type": "markdown",
   "id": "8f112772",
   "metadata": {},
   "source": [
    "## 显式扩张 boradcast_to"
   ]
  },
  {
   "cell_type": "code",
   "execution_count": 14,
   "id": "78470e18",
   "metadata": {},
   "outputs": [
    {
     "name": "stdout",
     "output_type": "stream",
     "text": [
      "显式扩展结果 (result_explicit):\n",
      " [[1. 2. 3.]\n",
      " [2. 4. 6.]]\n"
     ]
    }
   ],
   "source": [
    "# 显式扩展示例\n",
    "# 使用 tf.broadcast_to 显式扩展张量的形状\n",
    "tensor_z = tf.constant([1, 2, 3], dtype=tf.float32)  # 形状为 (3,)\n",
    "broadcasted_tensor_z = tf.broadcast_to(tensor_z, [2, 3])  # 显式扩展为形状 (2, 3)\n",
    "\n",
    "# 显式扩展后进行操作\n",
    "matrix_w = tf.constant([[1, 1, 1], [2, 2, 2]], dtype=tf.float32)  # 形状为 (2, 3)\n",
    "result_explicit = matrix_w * broadcasted_tensor_z  # 逐元素相乘\n",
    "print(\"显式扩展结果 (result_explicit):\\n\", result_explicit.numpy())"
   ]
  },
  {
   "cell_type": "markdown",
   "id": "952959a3",
   "metadata": {},
   "source": [
    "## Broadcast VS Tile\n",
    "### Tile 操作\n",
    "- `tf.tile` 是 TensorFlow 中用于重复张量的操作。\n",
    "- 它通过指定每个维度的重复次数，将原始张量扩展为更大的张量。\n",
    "\n",
    "#### 使用场景\n",
    "- 当需要手动扩展张量的形状以匹配另一个张量时，可以使用 `tf.tile`。\n",
    "- 与广播不同，`tf.tile` 会显式地创建一个新的张量，而广播是隐式的。\n",
    "\n",
    "#### 示例\n",
    "假设有一个张量 `tensor_z`，形状为 `(3,)`：\n",
    "```python\n",
    "# 使用 tf.tile 将 tensor_z 重复 2 次（行方向）和 3 次（列方向）\n",
    "tiled_tensor = tf.tile(tensor_z, [2, 3])  # 结果形状为 (6, 9)\n",
    "print(\"tiled_tensor:\\n\", tiled_tensor.numpy())\n",
    "```\n",
    "\n",
    "#### 注意事项\n",
    "- `tf.tile` 会显式地增加内存占用，因为它会创建一个新的张量。\n",
    "- 广播机制更高效，但在某些情况下，`tf.tile` 更适合用于生成特定形状的张量。"
   ]
  }
 ],
 "metadata": {
  "kernelspec": {
   "display_name": "tf",
   "language": "python",
   "name": "python3"
  },
  "language_info": {
   "codemirror_mode": {
    "name": "ipython",
    "version": 3
   },
   "file_extension": ".py",
   "mimetype": "text/x-python",
   "name": "python",
   "nbconvert_exporter": "python",
   "pygments_lexer": "ipython3",
   "version": "3.10.13"
  }
 },
 "nbformat": 4,
 "nbformat_minor": 5
}
