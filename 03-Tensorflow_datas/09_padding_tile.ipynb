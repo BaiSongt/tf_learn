{
 "cells": [
  {
   "cell_type": "markdown",
   "id": "3f37da60",
   "metadata": {},
   "source": [
    "## 填充与复制\n",
    "- pad\n",
    "- tile"
   ]
  },
  {
   "cell_type": "markdown",
   "id": "10bc3843",
   "metadata": {},
   "source": [
    "### TensorFlow 中 `tf.pad` 方法的使用示例\n",
    "\n",
    "`tf.pad` 方法用于对张量的边界进行填充操作。它可以在张量的指定维度上添加额外的值（如零填充），以调整张量的形状。\n",
    "\n",
    "#### 示例代码"
   ]
  },
  {
   "cell_type": "code",
   "execution_count": 2,
   "id": "20bcac5a",
   "metadata": {},
   "outputs": [
    {
     "name": "stdout",
     "output_type": "stream",
     "text": [
      "原始张量：\n",
      "[[1 2]\n",
      " [3 4]]\n",
      "\n",
      "填充后的张量：\n",
      "[[0 0 0 0 0 0]\n",
      " [0 0 1 2 0 0]\n",
      " [0 0 3 4 0 0]\n",
      " [0 0 0 0 0 0]]\n"
     ]
    }
   ],
   "source": [
    "import tensorflow as tf\n",
    "\n",
    "# 创建一个 2x2 的张量\n",
    "tensor = tf.constant([[1, 2], [3, 4]], dtype=tf.int32)\n",
    "\n",
    "# 定义填充规则：在第一个维度前后各填充 1，在第二个维度前后各填充 2\n",
    "paddings = tf.constant([[1, 1], [2, 2]])\n",
    "\n",
    "# 使用 tf.pad 进行填充\n",
    "padded_tensor = tf.pad(tensor, paddings, mode='CONSTANT', constant_values=0)\n",
    "\n",
    "print(\"原始张量：\")\n",
    "print(tensor.numpy())\n",
    "\n",
    "print(\"\\n填充后的张量：\")\n",
    "print(padded_tensor.numpy())"
   ]
  },
  {
   "cell_type": "markdown",
   "id": "bafa9c8a",
   "metadata": {},
   "source": [
    "#### 代码解释\n",
    "\n",
    "1. **创建张量**: 使用 `tf.constant` 创建一个 2x2 的整数张量。\n",
    "2. **定义填充规则**: `paddings` 是一个形状为 `[n, 2]` 的张量，其中 `n` 是待填充张量的维度数。每一行表示在对应维度的前后填充的大小。\n",
    "  - `[1, 1]` 表示在第一个维度（行）前后各填充 1。\n",
    "  - `[2, 2]` 表示在第二个维度（列）前后各填充 2。\n",
    "3. **调用 `tf.pad`**:\n",
    "  - `tensor`: 需要填充的张量。\n",
    "  - `paddings`: 填充规则。\n",
    "  - `mode`: 填充模式，这里使用 `'CONSTANT'` 表示常量填充。\n",
    "  - `constant_values`: 填充值，这里填充 0。\n",
    "4. **输出结果**: 填充后的张量形状为 `(4, 6)`，因为在原始张量的每个维度上都增加了填充。"
   ]
  },
  {
   "cell_type": "markdown",
   "id": "6586b3c7",
   "metadata": {},
   "source": [
    "### TensorFlow 中 `tf.tile` 方法的使用示例\n",
    "\n",
    "`tf.tile` 方法用于对张量进行复制操作。它可以在指定的维度上重复张量的内容，从而扩展张量的形状。\n",
    "\n",
    "#### 示例代码"
   ]
  },
  {
   "cell_type": "code",
   "execution_count": 3,
   "id": "48502322",
   "metadata": {},
   "outputs": [
    {
     "name": "stdout",
     "output_type": "stream",
     "text": [
      "原始张量：\n",
      "[[1 2]\n",
      " [3 4]]\n",
      "\n",
      "复制后的张量：\n",
      "[[1 2 1 2 1 2]\n",
      " [3 4 3 4 3 4]\n",
      " [1 2 1 2 1 2]\n",
      " [3 4 3 4 3 4]]\n"
     ]
    }
   ],
   "source": [
    "# 使用 tf.tile 对张量进行复制\n",
    "tiled_tensor = tf.tile(tensor, multiples=[2, 3])\n",
    "\n",
    "print(\"原始张量：\")\n",
    "print(tensor.numpy())\n",
    "\n",
    "print(\"\\n复制后的张量：\")\n",
    "print(tiled_tensor.numpy())"
   ]
  },
  {
   "cell_type": "markdown",
   "id": "dafb4c48",
   "metadata": {},
   "source": [
    "#### 代码解释\n",
    "\n",
    "1. **创建张量**: 这里使用了之前定义的 `tensor`，它是一个 2x2 的整数张量。\n",
    "2. **调用 `tf.tile`**:\n",
    "  - `tensor`: 需要复制的张量。\n",
    "  - `multiples`: 一个列表或张量，表示每个维度上复制的次数。\n",
    "    - `[2, 3]` 表示在第一个维度（行）上复制 2 次，在第二个维度（列）上复制 3 次。\n",
    "3. **输出结果**: \n",
    "  - 原始张量形状为 `(2, 2)`。\n",
    "  - 复制后的张量形状为 `(4, 6)`，因为在第一个维度上扩展为 `2 * 2 = 4`，在第二个维度上扩展为 `2 * 3 = 6`。"
   ]
  }
 ],
 "metadata": {
  "kernelspec": {
   "display_name": "tf",
   "language": "python",
   "name": "python3"
  },
  "language_info": {
   "codemirror_mode": {
    "name": "ipython",
    "version": 3
   },
   "file_extension": ".py",
   "mimetype": "text/x-python",
   "name": "python",
   "nbconvert_exporter": "python",
   "pygments_lexer": "ipython3",
   "version": "3.10.13"
  }
 },
 "nbformat": 4,
 "nbformat_minor": 5
}
