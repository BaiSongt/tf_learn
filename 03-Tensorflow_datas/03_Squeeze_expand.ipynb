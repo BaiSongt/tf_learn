{
 "cells": [
  {
   "cell_type": "markdown",
   "id": "14e69da1",
   "metadata": {},
   "source": [
    "## 展开 降维 和 扩维 03_Squeeze_expand"
   ]
  },
  {
   "cell_type": "markdown",
   "id": "83970020",
   "metadata": {},
   "source": [
    "### TensorFlow 中的 Squeeze 和 Expand_dims 操作\n",
    "\n",
    "在 TensorFlow 中，`tf.squeeze` 和 `tf.expand_dims` 是用于调整张量维度的两个重要操作。\n",
    "\n",
    "- **`tf.squeeze`**: 用于移除张量中大小为 1 的维度（即单维度）。\n",
    "- **`tf.expand_dims`**: 用于在指定位置插入一个大小为 1 的新维度。\n",
    "\n",
    "#### 应用场景\n",
    "1. **`tf.squeeze`**:\n",
    "  - 用于简化张量的形状，移除不必要的单维度。\n",
    "  - 常见于模型输出后处理，例如去除批量维度。\n",
    "\n",
    "2. **`tf.expand_dims`**:\n",
    "  - 用于增加张量的维度，方便与其他张量进行操作。\n",
    "  - 常见于数据预处理，例如为单张图片增加批量维度。\n",
    "\n",
    "#### 示例代码\n",
    "以下是 `tf.squeeze` 和 `tf.expand_dims` 的示例代码，带有中文注释：\n"
   ]
  },
  {
   "cell_type": "code",
   "execution_count": 1,
   "id": "54983c8d",
   "metadata": {},
   "outputs": [
    {
     "name": "stdout",
     "output_type": "stream",
     "text": [
      "原始张量形状: (1, 3, 1, 5)\n",
      "使用 tf.squeeze 后的张量形状: (3, 5)\n",
      "使用 tf.expand_dims 后的张量形状: (1, 3, 5)\n",
      "在最后一维增加新维度后的张量形状: (3, 5, 1)\n"
     ]
    }
   ],
   "source": [
    "import tensorflow as tf\n",
    "\n",
    "# 创建一个形状为 (1, 3, 1, 5) 的张量\n",
    "tensor = tf.constant([[[[1, 2, 3, 4, 5]],\n",
    "                [[6, 7, 8, 9, 10]],\n",
    "                [[11, 12, 13, 14, 15]]]], dtype=tf.float32)\n",
    "print(\"原始张量形状:\", tensor.shape)\n",
    "\n",
    "# 使用 tf.squeeze 移除大小为 1 的维度\n",
    "squeezed_tensor = tf.squeeze(tensor)  # 默认移除所有大小为 1 的维度\n",
    "print(\"使用 tf.squeeze 后的张量形状:\", squeezed_tensor.shape)\n",
    "\n",
    "# 使用 tf.expand_dims 在第 0 维增加一个新维度\n",
    "expanded_tensor = tf.expand_dims(squeezed_tensor, axis=0)\n",
    "print(\"使用 tf.expand_dims 后的张量形状:\", expanded_tensor.shape)\n",
    "\n",
    "# 使用 tf.expand_dims 在最后一维增加一个新维度\n",
    "expanded_tensor_last = tf.expand_dims(squeezed_tensor, axis=-1)\n",
    "print(\"在最后一维增加新维度后的张量形状:\", expanded_tensor_last.shape)"
   ]
  },
  {
   "cell_type": "markdown",
   "id": "7e0b575e",
   "metadata": {},
   "source": [
    "#### 输出结果\n",
    "```\n",
    "原始张量形状: (1, 3, 1, 5)\n",
    "使用 tf.squeeze 后的张量形状: (3, 5)\n",
    "使用 tf.expand_dims 后的张量形状: (1, 3, 5)\n",
    "在最后一维增加新维度后的张量形状: (3, 5, 1)\n",
    "```\n",
    "\n",
    "通过以上代码，可以清晰地看到 `tf.squeeze` 和 `tf.expand_dims` 如何调整张量的形状。"
   ]
  }
 ],
 "metadata": {
  "kernelspec": {
   "display_name": "tf",
   "language": "python",
   "name": "python3"
  },
  "language_info": {
   "codemirror_mode": {
    "name": "ipython",
    "version": 3
   },
   "file_extension": ".py",
   "mimetype": "text/x-python",
   "name": "python",
   "nbconvert_exporter": "python",
   "pygments_lexer": "ipython3",
   "version": "3.10.13"
  }
 },
 "nbformat": 4,
 "nbformat_minor": 5
}
