{
 "cells": [
  {
   "cell_type": "markdown",
   "id": "a5b6ded9",
   "metadata": {},
   "source": [
    "# 索引和切片"
   ]
  },
  {
   "cell_type": "code",
   "execution_count": 1,
   "id": "5b4be2ac",
   "metadata": {},
   "outputs": [
    {
     "name": "stdout",
     "output_type": "stream",
     "text": [
      "原始张量:\n",
      "tf.Tensor(\n",
      "[[1 2 3]\n",
      " [4 5 6]\n",
      " [7 8 9]], shape=(3, 3), dtype=int32)\n",
      "\n",
      "第一行:\n",
      "tf.Tensor([1 2 3], shape=(3,), dtype=int32)\n",
      "\n",
      "最后一列:\n",
      "tf.Tensor([3 6 9], shape=(3,), dtype=int32)\n",
      "\n",
      "第二行第三列的元素:\n",
      "tf.Tensor(6, shape=(), dtype=int32)\n",
      "\n",
      "前两行:\n",
      "tf.Tensor(\n",
      "[[1 2 3]\n",
      " [4 5 6]], shape=(2, 3), dtype=int32)\n",
      "\n",
      "中间的 2x2 子张量:\n",
      "tf.Tensor(\n",
      "[[2 3]\n",
      " [5 6]], shape=(2, 2), dtype=int32)\n",
      "\n",
      "步长为 2 的切片:\n",
      "tf.Tensor(\n",
      "[[1 3]\n",
      " [7 9]], shape=(2, 2), dtype=int32)\n"
     ]
    }
   ],
   "source": [
    "import tensorflow as tf\n",
    "\n",
    "# 创建一个 3x3 的张量\n",
    "tensor = tf.constant([[1, 2, 3], [4, 5, 6], [7, 8, 9]])\n",
    "print(\"原始张量:\")\n",
    "print(tensor)\n",
    "\n",
    "# 索引操作\n",
    "# 获取第一行\n",
    "first_row = tensor[0]\n",
    "print(\"\\n第一行:\")\n",
    "print(first_row)\n",
    "\n",
    "# 获取最后一列\n",
    "last_column = tensor[:, -1]\n",
    "print(\"\\n最后一列:\")\n",
    "print(last_column)\n",
    "\n",
    "# 获取特定元素 (第二行，第三列)\n",
    "specific_element = tensor[1, 2]\n",
    "print(\"\\n第二行第三列的元素:\")\n",
    "print(specific_element)\n",
    "\n",
    "# 切片操作\n",
    "# 获取前两行\n",
    "first_two_rows = tensor[:2]\n",
    "print(\"\\n前两行:\")\n",
    "print(first_two_rows)\n",
    "\n",
    "# 获取中间的 2x2 子张量\n",
    "middle_subtensor = tensor[0:2, 1:3]\n",
    "print(\"\\n中间的 2x2 子张量:\")\n",
    "print(middle_subtensor)\n",
    "\n",
    "# 使用步长进行切片\n",
    "# 每隔一行和一列取一个元素\n",
    "strided_tensor = tensor[::2, ::2]\n",
    "print(\"\\n步长为 2 的切片:\")\n",
    "print(strided_tensor)"
   ]
  },
  {
   "cell_type": "code",
   "execution_count": 4,
   "id": "7190ee1a",
   "metadata": {},
   "outputs": [
    {
     "name": "stdout",
     "output_type": "stream",
     "text": [
      "原始张量:\n",
      "tf.Tensor(\n",
      "[[1 2 3]\n",
      " [4 5 6]\n",
      " [7 8 9]], shape=(3, 3), dtype=int32)\n",
      "\n",
      "第一行:\n",
      "tf.Tensor([1 2 3], shape=(3,), dtype=int32)\n",
      "\n",
      "使用...:\n",
      "tf.Tensor(\n",
      "[[1 2 3]\n",
      " [4 5 6]\n",
      " [7 8 9]], shape=(3, 3), dtype=int32)\n",
      "\n",
      "使用 0, ...:\n",
      "tf.Tensor([1 2 3], shape=(3,), dtype=int32)\n",
      "\n",
      "使用 ...,0:\n",
      "tf.Tensor([1 4 7], shape=(3,), dtype=int32)\n"
     ]
    }
   ],
   "source": [
    "# 生成 TensorFlow 的张量\n",
    "# 使用 tf.constant 创建一个 3x3 的张量\n",
    "# 张量是 TensorFlow 中的基本数据结构，类似于多维数组\n",
    "tensor = tf.constant([[1, 2, 3], [4, 5, 6], [7, 8, 9]])\n",
    "print(\"原始张量:\")\n",
    "print(tensor)\n",
    "\n",
    "first_row = tensor[0]\n",
    "print(\"\\n第一行:\")\n",
    "print(first_row)\n",
    "print(\"\\n使用...:\")\n",
    "print(tensor[...])\n",
    "print(\"\\n使用 0, ...:\")\n",
    "print(tensor[0,...])\n",
    "print(\"\\n使用 ...,0:\")\n",
    "print(tensor[...,0])"
   ]
  },
  {
   "cell_type": "markdown",
   "id": "626e47b8",
   "metadata": {},
   "source": [
    "## tf.gather"
   ]
  },
  {
   "cell_type": "code",
   "execution_count": 9,
   "id": "e55c19f9",
   "metadata": {},
   "outputs": [
    {
     "name": "stdout",
     "output_type": "stream",
     "text": [
      "原始张量:\n",
      "tf.Tensor(\n",
      "[[1 2 3]\n",
      " [4 5 6]\n",
      " [7 8 9]], shape=(3, 3), dtype=int32)\n"
     ]
    }
   ],
   "source": [
    "import tensorflow as tf\n",
    "\n",
    "# tf.gather 用于从张量的指定轴中根据索引提取切片\n",
    "# 它的主要作用是从张量中提取特定的行、列或其他维度的子集\n",
    "\n",
    "# 示例：从张量中提取特定的行或列\n",
    "\n",
    "# 创建一个 3x3 的张量\n",
    "tensor = tf.constant([[1, 2, 3], [4, 5, 6], [7, 8, 9]])\n",
    "print(\"原始张量:\")\n",
    "print(tensor)"
   ]
  },
  {
   "cell_type": "code",
   "execution_count": 10,
   "id": "7d11a683",
   "metadata": {},
   "outputs": [
    {
     "name": "stdout",
     "output_type": "stream",
     "text": [
      "\n",
      "提取第 0 行和第 2 行:\n",
      "tf.Tensor(\n",
      "[[1 2 3]\n",
      " [7 8 9]], shape=(2, 3), dtype=int32)\n"
     ]
    }
   ],
   "source": [
    "# 使用 tf.gather 提取第 0 行和第 2 行\n",
    "# 参数 axis=0 表示从行的维度提取\n",
    "rows = tf.gather(tensor, indices=[0, 2], axis=0)\n",
    "print(\"\\n提取第 0 行和第 2 行:\")\n",
    "print(rows)"
   ]
  },
  {
   "cell_type": "code",
   "execution_count": null,
   "id": "01884be0",
   "metadata": {},
   "outputs": [
    {
     "name": "stdout",
     "output_type": "stream",
     "text": [
      "\n",
      "提取第 1 列和第 2 列:\n",
      "tf.Tensor(\n",
      "[[2 3]\n",
      " [5 6]\n",
      " [8 9]], shape=(3, 2), dtype=int32)\n"
     ]
    }
   ],
   "source": [
    "# 使用 tf.gather 提取第 1 列和第 2 列\n",
    "# 参数 axis=1 表示从列的维度提取\n",
    "columns = tf.gather(tensor, indices=[1, 2], axis=1)\n",
    "print(\"\\n提取第 1 列和第 2 列:\")\n",
    "print(columns)"
   ]
  },
  {
   "cell_type": "code",
   "execution_count": 15,
   "id": "5a99358d",
   "metadata": {},
   "outputs": [
    {
     "name": "stdout",
     "output_type": "stream",
     "text": [
      "\n",
      "3D 张量:\n",
      "tf.Tensor(\n",
      "[[[ 1  2]\n",
      "  [ 3  4]\n",
      "  [ 5  6]]\n",
      "\n",
      " [[ 7  8]\n",
      "  [ 9 10]\n",
      "  [11 12]]\n",
      "\n",
      " [[13 14]\n",
      "  [15 16]\n",
      "  [17 18]]], shape=(3, 3, 2), dtype=int32)\n"
     ]
    }
   ],
   "source": [
    "# 示例：从 3D 张量中提取特定切片\n",
    "tensor_3d = tf.constant([\n",
    "  [[1, 2],   [3, 4],   [5, 6]],\n",
    "  [[7, 8],   [9, 10],  [11, 12]],\n",
    "  [[13, 14], [15, 16], [17, 18]]\n",
    "])\n",
    "print(\"\\n3D 张量:\")\n",
    "print(tensor_3d)"
   ]
  },
  {
   "cell_type": "code",
   "execution_count": 14,
   "id": "742e9054",
   "metadata": {},
   "outputs": [
    {
     "name": "stdout",
     "output_type": "stream",
     "text": [
      "\n",
      "提取第 0 和第 2 个矩阵:\n",
      "tf.Tensor(\n",
      "[[[ 1  2]\n",
      "  [ 3  4]\n",
      "  [ 5  6]]\n",
      "\n",
      " [[13 14]\n",
      "  [15 16]\n",
      "  [17 18]]], shape=(2, 3, 2), dtype=int32)\n"
     ]
    }
   ],
   "source": [
    "# 提取第 0 和第 2 个矩阵 (axis=0)\n",
    "matrices = tf.gather(tensor_3d, indices=[0, 2], axis=0)\n",
    "print(\"\\n提取第 0 和第 2 个矩阵:\")\n",
    "print(matrices)\n"
   ]
  },
  {
   "cell_type": "code",
   "execution_count": 12,
   "id": "78878991",
   "metadata": {},
   "outputs": [
    {
     "name": "stdout",
     "output_type": "stream",
     "text": [
      "\n",
      "提取每个矩阵的第 1 行:\n",
      "tf.Tensor(\n",
      "[[[ 3  4]]\n",
      "\n",
      " [[ 9 10]]\n",
      "\n",
      " [[15 16]]], shape=(3, 1, 2), dtype=int32)\n"
     ]
    }
   ],
   "source": [
    "# 提取每个矩阵的第 1 行 (axis=1)\n",
    "rows_3d = tf.gather(tensor_3d, indices=[1], axis=1)\n",
    "print(\"\\n提取每个矩阵的第 1 行:\")\n",
    "print(rows_3d)"
   ]
  },
  {
   "cell_type": "code",
   "execution_count": 13,
   "id": "dd4d3ef4",
   "metadata": {},
   "outputs": [
    {
     "name": "stdout",
     "output_type": "stream",
     "text": [
      "\n",
      "提取每行的第 0 列:\n",
      "tf.Tensor(\n",
      "[[[ 1]\n",
      "  [ 3]\n",
      "  [ 5]]\n",
      "\n",
      " [[ 7]\n",
      "  [ 9]\n",
      "  [11]]\n",
      "\n",
      " [[13]\n",
      "  [15]\n",
      "  [17]]], shape=(3, 3, 1), dtype=int32)\n"
     ]
    }
   ],
   "source": [
    "# 提取每行的第 0 列 (axis=2)\n",
    "columns_3d = tf.gather(tensor_3d, indices=[0], axis=2)\n",
    "print(\"\\n提取每行的第 0 列:\")\n",
    "print(columns_3d)"
   ]
  },
  {
   "cell_type": "markdown",
   "id": "80566661",
   "metadata": {},
   "source": [
    "## gather_nd"
   ]
  },
  {
   "cell_type": "code",
   "execution_count": null,
   "id": "2b258d22",
   "metadata": {},
   "outputs": [
    {
     "data": {
      "text/plain": [
       "<tf.Tensor: shape=(2,), dtype=int32, numpy=array([1, 2], dtype=int32)>"
      ]
     },
     "execution_count": 18,
     "metadata": {},
     "output_type": "execute_result"
    }
   ],
   "source": [
    "# 使用 tf.gather_nd 提取张量 tensor_3d 中的特定位置的元素\n",
    "# [0, 0] 表示提取第 0 个矩阵的第 0 行的第 0 列的元素\n",
    "result = tf.gather_nd(tensor_3d, [0, 0])\n",
    "print(result)"
   ]
  },
  {
   "cell_type": "code",
   "execution_count": null,
   "id": "e1843369",
   "metadata": {},
   "outputs": [
    {
     "data": {
      "text/plain": [
       "<tf.Tensor: shape=(2, 2), dtype=int32, numpy=\n",
       "array([[ 3,  4],\n",
       "       [11, 12]], dtype=int32)>"
      ]
     },
     "execution_count": 20,
     "metadata": {},
     "output_type": "execute_result"
    }
   ],
   "source": [
    "# 使用 tf.gather_nd 从 3D 张量中提取特定位置的元素\n",
    "# [[0,1], [1,2]] 表示提取第 0 个矩阵的第 1 行和第 1 个矩阵的第 2 行\n",
    "result = tf.gather_nd(tensor_3d, [[0, 1], [1, 2]])\n",
    "print(result)"
   ]
  },
  {
   "cell_type": "markdown",
   "id": "cf36fcc8",
   "metadata": {},
   "source": [
    "## boolean_mask"
   ]
  },
  {
   "cell_type": "code",
   "execution_count": 21,
   "id": "1af9040b",
   "metadata": {},
   "outputs": [
    {
     "name": "stdout",
     "output_type": "stream",
     "text": [
      "从 1D 张量中选择的元素:\n",
      "tf.Tensor([1 3 5], shape=(3,), dtype=int32)\n"
     ]
    }
   ],
   "source": [
    "# tf.boolean_mask 用于根据布尔掩码从张量中选择特定的元素或切片\n",
    "# 它的主要作用是通过布尔值过滤张量中的数据\n",
    "\n",
    "# 示例 1：从 1D 张量中选择元素\n",
    "# 创建一个 1D 张量\n",
    "tensor_1d = tf.constant([1, 2, 3, 4, 5])\n",
    "# 创建一个布尔掩码\n",
    "mask_1d = tf.constant([True, False, True, False, True])\n",
    "# 使用 tf.boolean_mask 选择元素\n",
    "result_1d = tf.boolean_mask(tensor_1d, mask_1d)\n",
    "print(\"从 1D 张量中选择的元素:\")\n",
    "print(result_1d)"
   ]
  },
  {
   "cell_type": "code",
   "execution_count": 24,
   "id": "8a3bb796",
   "metadata": {},
   "outputs": [
    {
     "name": "stdout",
     "output_type": "stream",
     "text": [
      "\n",
      "从 2D 张量中选择的行:\n",
      "tf.Tensor(\n",
      "[[1 2 3]\n",
      " [7 8 9]], shape=(2, 3), dtype=int32)\n"
     ]
    }
   ],
   "source": [
    "# 示例 2：从 2D 张量中选择行\n",
    "# 创建一个 2D 张量\n",
    "tensor_2d = tf.constant([[1, 2, 3], [4, 5, 6], [7, 8, 9]])\n",
    "# 创建一个布尔掩码\n",
    "mask_2d = tf.constant([True, False, True])\n",
    "# 使用 tf.boolean_mask 选择行\n",
    "result_2d = tf.boolean_mask(tensor_2d, mask_2d, axis=0)\n",
    "print(\"\\n从 2D 张量中选择的行:\")\n",
    "print(result_2d)"
   ]
  },
  {
   "cell_type": "code",
   "execution_count": 23,
   "id": "e5aaf3c2",
   "metadata": {},
   "outputs": [
    {
     "name": "stdout",
     "output_type": "stream",
     "text": [
      "\n",
      "从 3D 张量中选择的矩阵:\n",
      "tf.Tensor(\n",
      "[[[ 1  2]\n",
      "  [ 3  4]\n",
      "  [ 5  6]]\n",
      "\n",
      " [[13 14]\n",
      "  [15 16]\n",
      "  [17 18]]], shape=(2, 3, 2), dtype=int32)\n"
     ]
    }
   ],
   "source": [
    "# 示例 3：从 3D 张量中选择特定切片\n",
    "# 使用之前定义的 tensor_3d\n",
    "# 创建一个布尔掩码\n",
    "mask_3d = tf.constant([True, False, True])\n",
    "# 使用 tf.boolean_mask 选择矩阵\n",
    "result_3d = tf.boolean_mask(tensor_3d, mask_3d, axis=0)\n",
    "print(\"\\n从 3D 张量中选择的矩阵:\")\n",
    "print(result_3d)"
   ]
  }
 ],
 "metadata": {
  "kernelspec": {
   "display_name": "tf",
   "language": "python",
   "name": "python3"
  },
  "language_info": {
   "codemirror_mode": {
    "name": "ipython",
    "version": 3
   },
   "file_extension": ".py",
   "mimetype": "text/x-python",
   "name": "python",
   "nbconvert_exporter": "python",
   "pygments_lexer": "ipython3",
   "version": "3.10.13"
  }
 },
 "nbformat": 4,
 "nbformat_minor": 5
}
