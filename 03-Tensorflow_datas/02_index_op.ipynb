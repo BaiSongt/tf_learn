{
 "cells": [
  {
   "cell_type": "markdown",
   "id": "a5b6ded9",
   "metadata": {},
   "source": [
    "# 索引和切片"
   ]
  },
  {
   "cell_type": "code",
   "execution_count": 1,
   "id": "5b4be2ac",
   "metadata": {},
   "outputs": [
    {
     "name": "stdout",
     "output_type": "stream",
     "text": [
      "原始张量:\n",
      "tf.Tensor(\n",
      "[[1 2 3]\n",
      " [4 5 6]\n",
      " [7 8 9]], shape=(3, 3), dtype=int32)\n",
      "\n",
      "第一行:\n",
      "tf.Tensor([1 2 3], shape=(3,), dtype=int32)\n",
      "\n",
      "最后一列:\n",
      "tf.Tensor([3 6 9], shape=(3,), dtype=int32)\n",
      "\n",
      "第二行第三列的元素:\n",
      "tf.Tensor(6, shape=(), dtype=int32)\n",
      "\n",
      "前两行:\n",
      "tf.Tensor(\n",
      "[[1 2 3]\n",
      " [4 5 6]], shape=(2, 3), dtype=int32)\n",
      "\n",
      "中间的 2x2 子张量:\n",
      "tf.Tensor(\n",
      "[[2 3]\n",
      " [5 6]], shape=(2, 2), dtype=int32)\n",
      "\n",
      "步长为 2 的切片:\n",
      "tf.Tensor(\n",
      "[[1 3]\n",
      " [7 9]], shape=(2, 2), dtype=int32)\n"
     ]
    }
   ],
   "source": [
    "import tensorflow as tf\n",
    "\n",
    "# 创建一个 3x3 的张量\n",
    "tensor = tf.constant([[1, 2, 3], [4, 5, 6], [7, 8, 9]])\n",
    "print(\"原始张量:\")\n",
    "print(tensor)\n",
    "\n",
    "# 索引操作\n",
    "# 获取第一行\n",
    "first_row = tensor[0]\n",
    "print(\"\\n第一行:\")\n",
    "print(first_row)\n",
    "\n",
    "# 获取最后一列\n",
    "last_column = tensor[:, -1]\n",
    "print(\"\\n最后一列:\")\n",
    "print(last_column)\n",
    "\n",
    "# 获取特定元素 (第二行，第三列)\n",
    "specific_element = tensor[1, 2]\n",
    "print(\"\\n第二行第三列的元素:\")\n",
    "print(specific_element)\n",
    "\n",
    "# 切片操作\n",
    "# 获取前两行\n",
    "first_two_rows = tensor[:2]\n",
    "print(\"\\n前两行:\")\n",
    "print(first_two_rows)\n",
    "\n",
    "# 获取中间的 2x2 子张量\n",
    "middle_subtensor = tensor[0:2, 1:3]\n",
    "print(\"\\n中间的 2x2 子张量:\")\n",
    "print(middle_subtensor)\n",
    "\n",
    "# 使用步长进行切片\n",
    "# 每隔一行和一列取一个元素\n",
    "strided_tensor = tensor[::2, ::2]\n",
    "print(\"\\n步长为 2 的切片:\")\n",
    "print(strided_tensor)"
   ]
  },
  {
   "cell_type": "code",
   "execution_count": 4,
   "id": "7190ee1a",
   "metadata": {},
   "outputs": [
    {
     "name": "stdout",
     "output_type": "stream",
     "text": [
      "原始张量:\n",
      "tf.Tensor(\n",
      "[[1 2 3]\n",
      " [4 5 6]\n",
      " [7 8 9]], shape=(3, 3), dtype=int32)\n",
      "\n",
      "第一行:\n",
      "tf.Tensor([1 2 3], shape=(3,), dtype=int32)\n",
      "\n",
      "使用...:\n",
      "tf.Tensor(\n",
      "[[1 2 3]\n",
      " [4 5 6]\n",
      " [7 8 9]], shape=(3, 3), dtype=int32)\n",
      "\n",
      "使用 0, ...:\n",
      "tf.Tensor([1 2 3], shape=(3,), dtype=int32)\n",
      "\n",
      "使用 ...,0:\n",
      "tf.Tensor([1 4 7], shape=(3,), dtype=int32)\n"
     ]
    }
   ],
   "source": [
    "# 生成 TensorFlow 的张量\n",
    "# 使用 tf.constant 创建一个 3x3 的张量\n",
    "# 张量是 TensorFlow 中的基本数据结构，类似于多维数组\n",
    "tensor = tf.constant([[1, 2, 3], [4, 5, 6], [7, 8, 9]])\n",
    "print(\"原始张量:\")\n",
    "print(tensor)\n",
    "\n",
    "first_row = tensor[0]\n",
    "print(\"\\n第一行:\")\n",
    "print(first_row)\n",
    "print(\"\\n使用...:\")\n",
    "print(tensor[...])\n",
    "print(\"\\n使用 0, ...:\")\n",
    "print(tensor[0,...])\n",
    "print(\"\\n使用 ...,0:\")\n",
    "print(tensor[...,0])"
   ]
  },
  {
   "cell_type": "markdown",
   "id": "626e47b8",
   "metadata": {},
   "source": [
    "## tf.gather"
   ]
  },
  {
   "cell_type": "code",
   "execution_count": 9,
   "id": "e55c19f9",
   "metadata": {},
   "outputs": [
    {
     "name": "stdout",
     "output_type": "stream",
     "text": [
      "原始张量:\n",
      "tf.Tensor(\n",
      "[[1 2 3]\n",
      " [4 5 6]\n",
      " [7 8 9]], shape=(3, 3), dtype=int32)\n"
     ]
    }
   ],
   "source": [
    "import tensorflow as tf\n",
    "\n",
    "# tf.gather 用于从张量的指定轴中根据索引提取切片\n",
    "# 它的主要作用是从张量中提取特定的行、列或其他维度的子集\n",
    "\n",
    "# 示例：从张量中提取特定的行或列\n",
    "\n",
    "# 创建一个 3x3 的张量\n",
    "tensor = tf.constant([[1, 2, 3], [4, 5, 6], [7, 8, 9]])\n",
    "print(\"原始张量:\")\n",
    "print(tensor)"
   ]
  },
  {
   "cell_type": "code",
   "execution_count": 10,
   "id": "7d11a683",
   "metadata": {},
   "outputs": [
    {
     "name": "stdout",
     "output_type": "stream",
     "text": [
      "\n",
      "提取第 0 行和第 2 行:\n",
      "tf.Tensor(\n",
      "[[1 2 3]\n",
      " [7 8 9]], shape=(2, 3), dtype=int32)\n"
     ]
    }
   ],
   "source": [
    "# 使用 tf.gather 提取第 0 行和第 2 行\n",
    "# 参数 axis=0 表示从行的维度提取\n",
    "rows = tf.gather(tensor, indices=[0, 2], axis=0)\n",
    "print(\"\\n提取第 0 行和第 2 行:\")\n",
    "print(rows)"
   ]
  },
  {
   "cell_type": "code",
   "execution_count": null,
   "id": "01884be0",
   "metadata": {},
   "outputs": [
    {
     "name": "stdout",
     "output_type": "stream",
     "text": [
      "\n",
      "提取第 1 列和第 2 列:\n",
      "tf.Tensor(\n",
      "[[2 3]\n",
      " [5 6]\n",
      " [8 9]], shape=(3, 2), dtype=int32)\n"
     ]
    }
   ],
   "source": [
    "# 使用 tf.gather 提取第 1 列和第 2 列\n",
    "# 参数 axis=1 表示从列的维度提取\n",
    "columns = tf.gather(tensor, indices=[1, 2], axis=1)\n",
    "print(\"\\n提取第 1 列和第 2 列:\")\n",
    "print(columns)"
   ]
  },
  {
   "cell_type": "code",
   "execution_count": 15,
   "id": "5a99358d",
   "metadata": {},
   "outputs": [
    {
     "name": "stdout",
     "output_type": "stream",
     "text": [
      "\n",
      "3D 张量:\n",
      "tf.Tensor(\n",
      "[[[ 1  2]\n",
      "  [ 3  4]\n",
      "  [ 5  6]]\n",
      "\n",
      " [[ 7  8]\n",
      "  [ 9 10]\n",
      "  [11 12]]\n",
      "\n",
      " [[13 14]\n",
      "  [15 16]\n",
      "  [17 18]]], shape=(3, 3, 2), dtype=int32)\n"
     ]
    }
   ],
   "source": [
    "# 示例：从 3D 张量中提取特定切片\n",
    "tensor_3d = tf.constant([\n",
    "  [[1, 2],   [3, 4],   [5, 6]],\n",
    "  [[7, 8],   [9, 10],  [11, 12]],\n",
    "  [[13, 14], [15, 16], [17, 18]]\n",
    "])\n",
    "print(\"\\n3D 张量:\")\n",
    "print(tensor_3d)"
   ]
  },
  {
   "cell_type": "code",
   "execution_count": 14,
   "id": "742e9054",
   "metadata": {},
   "outputs": [
    {
     "name": "stdout",
     "output_type": "stream",
     "text": [
      "\n",
      "提取第 0 和第 2 个矩阵:\n",
      "tf.Tensor(\n",
      "[[[ 1  2]\n",
      "  [ 3  4]\n",
      "  [ 5  6]]\n",
      "\n",
      " [[13 14]\n",
      "  [15 16]\n",
      "  [17 18]]], shape=(2, 3, 2), dtype=int32)\n"
     ]
    }
   ],
   "source": [
    "# 提取第 0 和第 2 个矩阵 (axis=0)\n",
    "matrices = tf.gather(tensor_3d, indices=[0, 2], axis=0)\n",
    "print(\"\\n提取第 0 和第 2 个矩阵:\")\n",
    "print(matrices)\n"
   ]
  },
  {
   "cell_type": "code",
   "execution_count": 12,
   "id": "78878991",
   "metadata": {},
   "outputs": [
    {
     "name": "stdout",
     "output_type": "stream",
     "text": [
      "\n",
      "提取每个矩阵的第 1 行:\n",
      "tf.Tensor(\n",
      "[[[ 3  4]]\n",
      "\n",
      " [[ 9 10]]\n",
      "\n",
      " [[15 16]]], shape=(3, 1, 2), dtype=int32)\n"
     ]
    }
   ],
   "source": [
    "# 提取每个矩阵的第 1 行 (axis=1)\n",
    "rows_3d = tf.gather(tensor_3d, indices=[1], axis=1)\n",
    "print(\"\\n提取每个矩阵的第 1 行:\")\n",
    "print(rows_3d)"
   ]
  },
  {
   "cell_type": "code",
   "execution_count": 13,
   "id": "dd4d3ef4",
   "metadata": {},
   "outputs": [
    {
     "name": "stdout",
     "output_type": "stream",
     "text": [
      "\n",
      "提取每行的第 0 列:\n",
      "tf.Tensor(\n",
      "[[[ 1]\n",
      "  [ 3]\n",
      "  [ 5]]\n",
      "\n",
      " [[ 7]\n",
      "  [ 9]\n",
      "  [11]]\n",
      "\n",
      " [[13]\n",
      "  [15]\n",
      "  [17]]], shape=(3, 3, 1), dtype=int32)\n"
     ]
    }
   ],
   "source": [
    "# 提取每行的第 0 列 (axis=2)\n",
    "columns_3d = tf.gather(tensor_3d, indices=[0], axis=2)\n",
    "print(\"\\n提取每行的第 0 列:\")\n",
    "print(columns_3d)"
   ]
  },
  {
   "cell_type": "markdown",
   "id": "80566661",
   "metadata": {},
   "source": [
    "## gather_nd"
   ]
  },
  {
   "cell_type": "code",
   "execution_count": null,
   "id": "2b258d22",
   "metadata": {},
   "outputs": [
    {
     "data": {
      "text/plain": [
       "<tf.Tensor: shape=(2,), dtype=int32, numpy=array([1, 2], dtype=int32)>"
      ]
     },
     "execution_count": 18,
     "metadata": {},
     "output_type": "execute_result"
    }
   ],
   "source": [
    "# 使用 tf.gather_nd 提取张量 tensor_3d 中的特定位置的元素\n",
    "# [0, 0] 表示提取第 0 个矩阵的第 0 行的第 0 列的元素\n",
    "result = tf.gather_nd(tensor_3d, [0, 0])\n",
    "print(result)"
   ]
  },
  {
   "cell_type": "code",
   "execution_count": null,
   "id": "e1843369",
   "metadata": {},
   "outputs": [
    {
     "data": {
      "text/plain": [
       "<tf.Tensor: shape=(2, 2), dtype=int32, numpy=\n",
       "array([[ 3,  4],\n",
       "       [11, 12]], dtype=int32)>"
      ]
     },
     "execution_count": 20,
     "metadata": {},
     "output_type": "execute_result"
    }
   ],
   "source": [
    "# 使用 tf.gather_nd 从 3D 张量中提取特定位置的元素\n",
    "# [[0,1], [1,2]] 表示提取第 0 个矩阵的第 1 行和第 1 个矩阵的第 2 行\n",
    "result = tf.gather_nd(tensor_3d, [[0, 1], [1, 2]])\n",
    "print(result)"
   ]
  },
  {
   "cell_type": "markdown",
   "id": "cf36fcc8",
   "metadata": {},
   "source": [
    "## boolean_mask"
   ]
  },
  {
   "cell_type": "code",
   "execution_count": 21,
   "id": "1af9040b",
   "metadata": {},
   "outputs": [
    {
     "name": "stdout",
     "output_type": "stream",
     "text": [
      "从 1D 张量中选择的元素:\n",
      "tf.Tensor([1 3 5], shape=(3,), dtype=int32)\n"
     ]
    }
   ],
   "source": [
    "# tf.boolean_mask 用于根据布尔掩码从张量中选择特定的元素或切片\n",
    "# 它的主要作用是通过布尔值过滤张量中的数据\n",
    "\n",
    "# 示例 1：从 1D 张量中选择元素\n",
    "# 创建一个 1D 张量\n",
    "tensor_1d = tf.constant([1, 2, 3, 4, 5])\n",
    "# 创建一个布尔掩码\n",
    "mask_1d = tf.constant([True, False, True, False, True])\n",
    "# 使用 tf.boolean_mask 选择元素\n",
    "result_1d = tf.boolean_mask(tensor_1d, mask_1d)\n",
    "print(\"从 1D 张量中选择的元素:\")\n",
    "print(result_1d)"
   ]
  },
  {
   "cell_type": "code",
   "execution_count": 24,
   "id": "8a3bb796",
   "metadata": {},
   "outputs": [
    {
     "name": "stdout",
     "output_type": "stream",
     "text": [
      "\n",
      "从 2D 张量中选择的行:\n",
      "tf.Tensor(\n",
      "[[1 2 3]\n",
      " [7 8 9]], shape=(2, 3), dtype=int32)\n"
     ]
    }
   ],
   "source": [
    "# 示例 2：从 2D 张量中选择行\n",
    "# 创建一个 2D 张量\n",
    "tensor_2d = tf.constant([[1, 2, 3], [4, 5, 6], [7, 8, 9]])\n",
    "# 创建一个布尔掩码\n",
    "mask_2d = tf.constant([True, False, True])\n",
    "# 使用 tf.boolean_mask 选择行\n",
    "result_2d = tf.boolean_mask(tensor_2d, mask_2d, axis=0)\n",
    "print(\"\\n从 2D 张量中选择的行:\")\n",
    "print(result_2d)"
   ]
  },
  {
   "cell_type": "code",
   "execution_count": 23,
   "id": "e5aaf3c2",
   "metadata": {},
   "outputs": [
    {
     "name": "stdout",
     "output_type": "stream",
     "text": [
      "\n",
      "从 3D 张量中选择的矩阵:\n",
      "tf.Tensor(\n",
      "[[[ 1  2]\n",
      "  [ 3  4]\n",
      "  [ 5  6]]\n",
      "\n",
      " [[13 14]\n",
      "  [15 16]\n",
      "  [17 18]]], shape=(2, 3, 2), dtype=int32)\n"
     ]
    }
   ],
   "source": [
    "# 示例 3：从 3D 张量中选择特定切片\n",
    "# 使用之前定义的 tensor_3d\n",
    "# 创建一个布尔掩码\n",
    "mask_3d = tf.constant([True, False, True])\n",
    "# 使用 tf.boolean_mask 选择矩阵\n",
    "result_3d = tf.boolean_mask(tensor_3d, mask_3d, axis=0)\n",
    "print(\"\\n从 3D 张量中选择的矩阵:\")\n",
    "print(result_3d)"
   ]
  },
  {
   "cell_type": "markdown",
   "id": "4080c302",
   "metadata": {},
   "source": [
    "## [ b , 3, h , w]\n",
    "\n",
    "- 在 TensorFlow 中，形状为 [b, 3, h, w] 的张量通常用于表示批量图像数据\n",
    "- b 表示批量大小（batch size），即一次处理的图像数量\n",
    "- 3 表示通道数（channels），通常是 RGB 图像的三个颜色通道\n",
    "- h 表示图像的高度（height）\n",
    "- w 表示图像的宽度（width）\n"
   ]
  },
  {
   "cell_type": "code",
   "execution_count": 1,
   "id": "5d61e9b9",
   "metadata": {},
   "outputs": [
    {
     "name": "stdout",
     "output_type": "stream",
     "text": [
      "形状为 [b, 3, h, w] 的张量:\n",
      "tf.Tensor(\n",
      "[[[[198.86166    93.0143    146.62198    83.94598  ]\n",
      "   [ 68.7011    177.83429    41.344883    3.6219049]\n",
      "   [121.44617    15.62692    24.295288   44.223183 ]\n",
      "   [ 91.24292    41.919106  149.02153    60.422413 ]]\n",
      "\n",
      "  [[103.42887   222.47305   144.64359   199.4327   ]\n",
      "   [ 29.123552  241.18546   253.17381   105.08233  ]\n",
      "   [ 17.69331    31.246605   72.62261   202.60188  ]\n",
      "   [ 43.11732    55.962517   65.226265  147.29225  ]]\n",
      "\n",
      "  [[219.88187    29.539068  151.76566   230.2127   ]\n",
      "   [ 36.39621    88.49856   152.38457   144.01178  ]\n",
      "   [ 16.355448  161.20836   213.86273   109.23843  ]\n",
      "   [220.67906    99.29755    81.44261   143.32573  ]]]\n",
      "\n",
      "\n",
      " [[[ 89.73513   229.87413   234.23758   208.0892   ]\n",
      "   [145.21375    69.89436    63.910656  167.35402  ]\n",
      "   [ 36.608604  252.18265   100.42156    35.372395 ]\n",
      "   [183.61302   144.06787   123.98729    25.021597 ]]\n",
      "\n",
      "  [[123.95047   105.85445   221.18619    83.00226  ]\n",
      "   [228.34944   253.92946   100.45895    89.01108  ]\n",
      "   [231.58705    90.72457   224.30284    96.94864  ]\n",
      "   [161.6298    146.75089   141.50735   165.96196  ]]\n",
      "\n",
      "  [[ 24.438738   58.54425   105.27371   111.87989  ]\n",
      "   [209.62305     7.8693776 132.46646   202.94905  ]\n",
      "   [  3.0966818 200.6958    120.18639   244.17508  ]\n",
      "   [177.59207   108.36073    41.14553   198.89297  ]]]], shape=(2, 3, 4, 4), dtype=float32)\n"
     ]
    }
   ],
   "source": [
    "import tensorflow as tf\n",
    "\n",
    "# 示例：创建一个形状为 [2, 3, 4, 4] 的张量\n",
    "# 表示 2 张 RGB 图像，每张图像的大小为 4x4\n",
    "tensor = tf.random.uniform(shape=[2, 3, 4, 4], minval=0, maxval=255, dtype=tf.float32)\n",
    "print(\"形状为 [b, 3, h, w] 的张量:\")\n",
    "print(tensor)"
   ]
  },
  {
   "cell_type": "code",
   "execution_count": null,
   "id": "3e1f0635",
   "metadata": {},
   "outputs": [
    {
     "name": "stdout",
     "output_type": "stream",
     "text": [
      "\n",
      "第一个批次的图像:\n",
      "tf.Tensor(\n",
      "[[[198.86166    93.0143    146.62198    83.94598  ]\n",
      "  [ 68.7011    177.83429    41.344883    3.6219049]\n",
      "  [121.44617    15.62692    24.295288   44.223183 ]\n",
      "  [ 91.24292    41.919106  149.02153    60.422413 ]]\n",
      "\n",
      " [[103.42887   222.47305   144.64359   199.4327   ]\n",
      "  [ 29.123552  241.18546   253.17381   105.08233  ]\n",
      "  [ 17.69331    31.246605   72.62261   202.60188  ]\n",
      "  [ 43.11732    55.962517   65.226265  147.29225  ]]\n",
      "\n",
      " [[219.88187    29.539068  151.76566   230.2127   ]\n",
      "  [ 36.39621    88.49856   152.38457   144.01178  ]\n",
      "  [ 16.355448  161.20836   213.86273   109.23843  ]\n",
      "  [220.67906    99.29755    81.44261   143.32573  ]]], shape=(3, 4, 4), dtype=float32)\n"
     ]
    }
   ],
   "source": [
    "# 应用 1：获取第一个批次的图像\n",
    "first_batch = tensor[0]\n",
    "print(\"\\n第一个批次的图像:\")\n",
    "print(first_batch)"
   ]
  },
  {
   "cell_type": "code",
   "execution_count": 3,
   "id": "85e4868f",
   "metadata": {},
   "outputs": [
    {
     "name": "stdout",
     "output_type": "stream",
     "text": [
      "\n",
      "所有图像的第一个通道:\n",
      "tf.Tensor(\n",
      "[[[198.86166    93.0143    146.62198    83.94598  ]\n",
      "  [ 68.7011    177.83429    41.344883    3.6219049]\n",
      "  [121.44617    15.62692    24.295288   44.223183 ]\n",
      "  [ 91.24292    41.919106  149.02153    60.422413 ]]\n",
      "\n",
      " [[ 89.73513   229.87413   234.23758   208.0892   ]\n",
      "  [145.21375    69.89436    63.910656  167.35402  ]\n",
      "  [ 36.608604  252.18265   100.42156    35.372395 ]\n",
      "  [183.61302   144.06787   123.98729    25.021597 ]]], shape=(2, 4, 4), dtype=float32)\n"
     ]
    }
   ],
   "source": [
    "# 应用 2：获取所有图像的第一个通道\n",
    "first_channel = tensor[:, 0, :, :]\n",
    "print(\"\\n所有图像的第一个通道:\")\n",
    "print(first_channel)"
   ]
  },
  {
   "cell_type": "code",
   "execution_count": 4,
   "id": "9c3a8e8c",
   "metadata": {},
   "outputs": [
    {
     "name": "stdout",
     "output_type": "stream",
     "text": [
      "\n",
      "归一化后的张量:\n",
      "tf.Tensor(\n",
      "[[[[0.77984965 0.36476195 0.5749881  0.3291999 ]\n",
      "   [0.2694161  0.69738936 0.1621368  0.01420355]\n",
      "   [0.47625947 0.06128204 0.09527564 0.17342424]\n",
      "   [0.35781538 0.16438864 0.58439815 0.23695064]]\n",
      "\n",
      "  [[0.4056034  0.8724433  0.56722975 0.782089  ]\n",
      "   [0.11421001 0.94582534 0.9928385  0.41208756]\n",
      "   [0.06938553 0.12253571 0.28479457 0.79451716]\n",
      "   [0.16908753 0.21946084 0.25578928 0.5776167 ]]\n",
      "\n",
      "  [[0.86228186 0.11583948 0.5951594  0.90279496]\n",
      "   [0.14273024 0.34705317 0.5975865  0.5647521 ]\n",
      "   [0.06413901 0.63218963 0.8386774  0.42838597]\n",
      "   [0.86540806 0.38940215 0.3193828  0.56206167]]]\n",
      "\n",
      "\n",
      " [[[0.35190248 0.9014672  0.91857874 0.8160361 ]\n",
      "   [0.5694657  0.27409554 0.25063002 0.6562903 ]\n",
      "   [0.14356315 0.98895156 0.39381003 0.13871527]\n",
      "   [0.72005105 0.56497204 0.48622465 0.09812391]]\n",
      "\n",
      "  [[0.4860803  0.41511548 0.86739683 0.32549906]\n",
      "   [0.895488   0.9958018  0.39395666 0.34906304]\n",
      "   [0.9081845  0.35578263 0.879619   0.38019073]\n",
      "   [0.63384235 0.5754937  0.5549308  0.6508312 ]]\n",
      "\n",
      "  [[0.09583819 0.22958529 0.4128381  0.43874466]\n",
      "   [0.82205117 0.0308603  0.5194763  0.79587865]\n",
      "   [0.01214385 0.7870424  0.4713192  0.95754933]\n",
      "   [0.6964395  0.42494404 0.16135502 0.77997243]]]], shape=(2, 3, 4, 4), dtype=float32)\n"
     ]
    }
   ],
   "source": [
    "# 应用 3：对每张图像进行归一化处理\n",
    "# 将像素值从 [0, 255] 缩放到 [0, 1]\n",
    "normalized_tensor = tensor / 255.0\n",
    "print(\"\\n归一化后的张量:\")\n",
    "print(normalized_tensor)\n"
   ]
  },
  {
   "cell_type": "code",
   "execution_count": 5,
   "id": "b6ffd503",
   "metadata": {},
   "outputs": [
    {
     "name": "stdout",
     "output_type": "stream",
     "text": [
      "\n",
      "交换通道顺序后的张量:\n",
      "tf.Tensor(\n",
      "[[[[198.86166   103.42887   219.88187  ]\n",
      "   [ 93.0143    222.47305    29.539068 ]\n",
      "   [146.62198   144.64359   151.76566  ]\n",
      "   [ 83.94598   199.4327    230.2127   ]]\n",
      "\n",
      "  [[ 68.7011     29.123552   36.39621  ]\n",
      "   [177.83429   241.18546    88.49856  ]\n",
      "   [ 41.344883  253.17381   152.38457  ]\n",
      "   [  3.6219049 105.08233   144.01178  ]]\n",
      "\n",
      "  [[121.44617    17.69331    16.355448 ]\n",
      "   [ 15.62692    31.246605  161.20836  ]\n",
      "   [ 24.295288   72.62261   213.86273  ]\n",
      "   [ 44.223183  202.60188   109.23843  ]]\n",
      "\n",
      "  [[ 91.24292    43.11732   220.67906  ]\n",
      "   [ 41.919106   55.962517   99.29755  ]\n",
      "   [149.02153    65.226265   81.44261  ]\n",
      "   [ 60.422413  147.29225   143.32573  ]]]\n",
      "\n",
      "\n",
      " [[[ 89.73513   123.95047    24.438738 ]\n",
      "   [229.87413   105.85445    58.54425  ]\n",
      "   [234.23758   221.18619   105.27371  ]\n",
      "   [208.0892     83.00226   111.87989  ]]\n",
      "\n",
      "  [[145.21375   228.34944   209.62305  ]\n",
      "   [ 69.89436   253.92946     7.8693776]\n",
      "   [ 63.910656  100.45895   132.46646  ]\n",
      "   [167.35402    89.01108   202.94905  ]]\n",
      "\n",
      "  [[ 36.608604  231.58705     3.0966818]\n",
      "   [252.18265    90.72457   200.6958   ]\n",
      "   [100.42156   224.30284   120.18639  ]\n",
      "   [ 35.372395   96.94864   244.17508  ]]\n",
      "\n",
      "  [[183.61302   161.6298    177.59207  ]\n",
      "   [144.06787   146.75089   108.36073  ]\n",
      "   [123.98729   141.50735    41.14553  ]\n",
      "   [ 25.021597  165.96196   198.89297  ]]]], shape=(2, 4, 4, 3), dtype=float32)\n"
     ]
    }
   ],
   "source": [
    "# 应用 4：交换通道顺序为 [b, h, w, 3]（常用于与其他库兼容）\n",
    "# TensorFlow 默认使用 [b, h, w, c] 格式\n",
    "transposed_tensor = tf.transpose(tensor, perm=[0, 2, 3, 1])\n",
    "print(\"\\n交换通道顺序后的张量:\")\n",
    "print(transposed_tensor)"
   ]
  },
  {
   "cell_type": "markdown",
   "id": "aefc259f",
   "metadata": {},
   "source": [
    "在 TensorFlow 中，张量的形状 `[b, 3, h, w]` 表示批量图像数据，其中：\n",
    "\n",
    "- `b` 是批量大小（batch size），表示一次处理的图像数量。\n",
    "- `3` 是通道数（channels），通常是 RGB 图像的三个颜色通道。\n",
    "- `h` 是图像的高度（height）。\n",
    "- `w` 是图像的宽度（width）。\n",
    "\n",
    "要将形状 `[b, 3, h, w]` 转换为 `[b, h, w, c]`，需要交换维度的顺序，使通道数 `3` 移动到最后一维。可以使用 TensorFlow 的 `tf.transpose` 函数完成此操作。\n",
    "\n",
    "代码示例：\n",
    "\n",
    "```python\n",
    "# 假设 tensor 的形状为 [b, 3, h, w]   ----->    [b, h, w, 3]\n",
    "#                    [0, 1, 2, 3]   ----->    [0, 2, 3 ,1]\n",
    "transposed_tensor = tf.transpose(tensor, perm=[0, 2, 3, 1])\n",
    "print(transposed_tensor.shape)  # 输出形状为 [b, h, w, c]\n",
    "```\n",
    "\n",
    "在 `perm` 参数中，`[0, 2, 3, 1]` 表示将第 0 维保持不变，将第 2 维和第 3 维移到前面，将第 1 维（通道数）移动到最后一维。"
   ]
  }
 ],
 "metadata": {
  "kernelspec": {
   "display_name": "tf",
   "language": "python",
   "name": "python3"
  },
  "language_info": {
   "codemirror_mode": {
    "name": "ipython",
    "version": 3
   },
   "file_extension": ".py",
   "mimetype": "text/x-python",
   "name": "python",
   "nbconvert_exporter": "python",
   "pygments_lexer": "ipython3",
   "version": "3.10.13"
  }
 },
 "nbformat": 4,
 "nbformat_minor": 5
}
