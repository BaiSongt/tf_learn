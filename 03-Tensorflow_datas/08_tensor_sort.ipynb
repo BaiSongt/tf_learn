{
 "cells": [
  {
   "cell_type": "markdown",
   "id": "9969592c",
   "metadata": {},
   "source": [
    "## 张量排序\n",
    "- sort argsort\n",
    "- math.top_k\n",
    "- top_k 的 预测准确度的计算实现"
   ]
  },
  {
   "cell_type": "markdown",
   "id": "c99d230a",
   "metadata": {},
   "source": [
    "## TensorFlow 中的 `sort` 和 `argsort`\n",
    "\n",
    "在 TensorFlow 中，`tf.sort` 和 `tf.argsort` 是用于对张量进行排序的操作。以下是它们的功能和用法：\n",
    "\n",
    "- **`tf.sort`**: 返回排序后的张量。\n",
    "- **`tf.argsort`**: 返回排序后元素在原始张量中的索引。\n",
    "\n",
    "### 示例代码\n",
    "\n",
    "以下是使用 `tf.sort` 和 `tf.argsort` 的示例代码："
   ]
  },
  {
   "cell_type": "code",
   "execution_count": 1,
   "id": "7f9b591a",
   "metadata": {},
   "outputs": [
    {
     "name": "stdout",
     "output_type": "stream",
     "text": [
      "排序后的张量: [1 2 3 4 9]\n",
      "排序后元素的索引: [1 4 2 0 3]\n",
      "根据索引重新排列的张量: [1 2 3 4 9]\n"
     ]
    }
   ],
   "source": [
    "import tensorflow as tf\n",
    "\n",
    "# 创建一个张量\n",
    "tensor = tf.constant([4, 1, 3, 9, 2])\n",
    "\n",
    "# 使用 tf.sort 对张量进行排序\n",
    "sorted_tensor = tf.sort(tensor, direction='ASCENDING')\n",
    "print(\"排序后的张量:\", sorted_tensor.numpy())\n",
    "\n",
    "# 使用 tf.argsort 获取排序后元素的索引\n",
    "sorted_indices = tf.argsort(tensor, direction='ASCENDING')\n",
    "print(\"排序后元素的索引:\", sorted_indices.numpy())\n",
    "\n",
    "# 根据索引重新排列原始张量\n",
    "reordered_tensor = tf.gather(tensor, sorted_indices)\n",
    "print(\"根据索引重新排列的张量:\", reordered_tensor.numpy())"
   ]
  },
  {
   "cell_type": "markdown",
   "id": "d4c80fa7",
   "metadata": {},
   "source": [
    "### 参数说明\n",
    "- `direction`: 排序方向，可以是 `'ASCENDING'`（升序）或 `'DESCENDING'`（降序）。\n",
    "- `tf.gather`: 根据索引从张量中提取元素。\n",
    "\n",
    "通过这些操作，可以方便地对张量进行排序和索引操作。"
   ]
  },
  {
   "cell_type": "markdown",
   "id": "bfac9ed9",
   "metadata": {},
   "source": [
    "---\n",
    "## TensorFlow 中的 `math.top_k`\n",
    "\n",
    "在 TensorFlow 中，`tf.math.top_k` 用于从张量中选择最大的 `k` 个元素及其索引。它返回一个 `TopKV2` 对象，其中包含两个张量：\n",
    "- `values`: 前 `k` 个最大值。\n",
    "- `indices`: 这些最大值在原始张量中的索引。\n",
    "\n",
    "### 示例代码\n",
    "\n",
    "以下是使用 `tf.math.top_k` 的示例代码："
   ]
  },
  {
   "cell_type": "code",
   "execution_count": 4,
   "id": "6ea76fc6",
   "metadata": {},
   "outputs": [
    {
     "name": "stdout",
     "output_type": "stream",
     "text": [
      "原始张量:  tf.Tensor([4 1 3 9 2], shape=(5,), dtype=int32)\n",
      "最大的 3 个值: [9 4 3]\n",
      "对应的索引: [3 0 2]\n"
     ]
    }
   ],
   "source": [
    "# 使用 tf.math.top_k 获取最大的 3 个元素及其索引\n",
    "k = 3\n",
    "print(\"原始张量: \", tensor)\n",
    "top_k_values, top_k_indices = tf.math.top_k(tensor, k=k)\n",
    "\n",
    "print(\"最大的 3 个值:\", top_k_values.numpy())\n",
    "print(\"对应的索引:\", top_k_indices.numpy())"
   ]
  },
  {
   "cell_type": "markdown",
   "id": "a610c241",
   "metadata": {},
   "source": [
    "---\n",
    "## 使用 `tf.math.top_k` 计算 Top-k 预测准确度\n",
    "\n",
    "在深度学习中，Top-k 预测准确度是一种常用的评估指标，用于衡量模型预测的前 `k` 个结果中是否包含正确答案。TensorFlow 提供了 `tf.math.top_k` 方法，可以方便地实现这一功能。\n",
    "\n",
    "### 示例代码\n",
    "\n",
    "以下是一个使用 `tf.math.top_k` 计算 Top-k 预测准确度的示例代码：\n",
    "\n"
   ]
  },
  {
   "cell_type": "code",
   "execution_count": null,
   "id": "7d9abf16",
   "metadata": {},
   "outputs": [
    {
     "name": "stdout",
     "output_type": "stream",
     "text": [
      "Top-1 准确度: 0.6666666865348816\n",
      "Top-2 准确度: 1.0\n",
      "Top-3 准确度: 1.0\n",
      "所有 Top-k 准确度: [0.6666667, 1.0, 1.0]\n"
     ]
    }
   ],
   "source": [
    "# 假设我们有模型的预测结果和真实标签\n",
    "# 每一行表示一个样本的预测分数\n",
    "predictions = tf.constant([[0.1, 0.5, 0.4],    # 第一个样本\n",
    "                            [0.1, 0.6, 0.3],   # 第二个样本\n",
    "                            [0.8, 0.1, 0.1]])  # 第三个样本\n",
    "\n",
    "# 真实标签\n",
    "labels = tf.constant([2, 1, 0])  # 每个样本的真实类别索引\n",
    "\n",
    "# 定义 k 的范围\n",
    "k_values = range(1, 4)\n",
    "\n",
    "# 存储每个 k 的 Top-k 准确度\n",
    "accuracies = []\n",
    "\n",
    "for k in k_values:\n",
    "  # 使用 tf.math.top_k 获取每个样本的 Top-k 预测索引\n",
    "  top_k_predictions = tf.math.top_k(predictions, k=k).indices\n",
    "\n",
    "  # 扩展真实标签的维度，使其与 Top-k 索引的维度匹配\n",
    "  expanded_labels = tf.expand_dims(labels, axis=-1)\n",
    "\n",
    "  # 检查真实标签是否在 Top-k 预测中\n",
    "  matches = tf.equal(top_k_predictions, expanded_labels)\n",
    "\n",
    "  # 对每个样本的匹配结果取逻辑或，判断是否至少有一个匹配\n",
    "  correct = tf.reduce_any(matches, axis=-1)\n",
    "\n",
    "  # 将布尔值转换为浮点数，并计算 Top-k 准确度\n",
    "  accuracy = tf.reduce_mean(tf.cast(correct, tf.float32))\n",
    "\n",
    "  # 将准确度添加到列表中\n",
    "  accuracies.append(accuracy.numpy())\n",
    "\n",
    "  print(f\"Top-{k} 准确度: {accuracy.numpy()}\")\n",
    "\n",
    "# 打印所有 k 的准确度\n",
    "print(\"所有 Top-k 准确度:\", accuracies)\n"
   ]
  }
 ],
 "metadata": {
  "kernelspec": {
   "display_name": "tf",
   "language": "python",
   "name": "python3"
  },
  "language_info": {
   "codemirror_mode": {
    "name": "ipython",
    "version": 3
   },
   "file_extension": ".py",
   "mimetype": "text/x-python",
   "name": "python",
   "nbconvert_exporter": "python",
   "pygments_lexer": "ipython3",
   "version": "3.10.13"
  }
 },
 "nbformat": 4,
 "nbformat_minor": 5
}
