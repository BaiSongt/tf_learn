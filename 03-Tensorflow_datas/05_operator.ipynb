{
 "cells": [
  {
   "cell_type": "markdown",
   "id": "95130259",
   "metadata": {
    "vscode": {
     "languageId": "ini"
    }
   },
   "source": [
    "# Tensorflow 运算符\n",
    "\n",
    "## Tensor 的运算符和常用运算\n",
    "\n",
    "TensorFlow 提供了丰富的运算符来操作张量，以下是一些常用的运算符及其应用示例："
   ]
  },
  {
   "cell_type": "markdown",
   "id": "f1db2e57",
   "metadata": {},
   "source": [
    "### 1. 基本数学运算\n",
    "- `tf.add`：加法\n",
    "- `tf.subtract`：减法\n",
    "- `tf.multiply`：乘法\n",
    "- `tf.divide`：除法"
   ]
  },
  {
   "cell_type": "code",
   "execution_count": 11,
   "id": "98e142f2",
   "metadata": {},
   "outputs": [
    {
     "name": "stdout",
     "output_type": "stream",
     "text": [
      "加法结果: [5. 7. 9.]\n",
      "减法结果: [-3. -3. -3.]\n",
      "乘法结果: [ 4. 10. 18.]\n",
      "除法结果: [0.25 0.4  0.5 ]\n"
     ]
    }
   ],
   "source": [
    "import tensorflow as tf\n",
    "\n",
    "# 创建两个张量\n",
    "a = tf.constant([1, 2, 3], dtype=tf.float32)\n",
    "b = tf.constant([4, 5, 6], dtype=tf.float32)\n",
    "\n",
    "# 基本运算\n",
    "add_result = tf.add(a, b)  # 加法\n",
    "sub_result = tf.subtract(a, b)  # 减法\n",
    "mul_result = tf.multiply(a, b)  # 乘法\n",
    "div_result = tf.divide(a, b)  # 除法\n",
    "\n",
    "print(\"加法结果:\", add_result.numpy())\n",
    "print(\"减法结果:\", sub_result.numpy())\n",
    "print(\"乘法结果:\", mul_result.numpy())\n",
    "print(\"除法结果:\", div_result.numpy())"
   ]
  },
  {
   "cell_type": "markdown",
   "id": "29ec5e56",
   "metadata": {},
   "source": [
    "### 2. 矩阵运算\n",
    "- `tf.matmul`：矩阵乘法 @ 符号\n",
    "- `tf.transpose`：矩阵转置\n",
    "- `tf.linalg.inv`：矩阵求逆"
   ]
  },
  {
   "cell_type": "code",
   "execution_count": 19,
   "id": "f30b153f",
   "metadata": {},
   "outputs": [
    {
     "name": "stdout",
     "output_type": "stream",
     "text": [
      "矩阵乘法结果:\n",
      " [[19. 22.]\n",
      " [43. 50.]]\n",
      "矩阵转置结果:\n",
      " [[1. 3.]\n",
      " [2. 4.]]\n"
     ]
    }
   ],
   "source": [
    "# 创建矩阵\n",
    "matrix1 = tf.constant([[1, 2], [3, 4]], dtype=tf.float32)\n",
    "matrix2 = tf.constant([[5, 6], [7, 8]], dtype=tf.float32)\n",
    "\n",
    "# 矩阵乘法\n",
    "# matmul_result = tf.matmul(matrix1, matrix2)\n",
    "matmul_result = matrix1 @ matrix2\n",
    "\n",
    "# 矩阵转置\n",
    "transpose_result = tf.transpose(matrix1)\n",
    "\n",
    "print(\"矩阵乘法结果:\\n\", matmul_result.numpy())\n",
    "print(\"矩阵转置结果:\\n\", transpose_result.numpy())"
   ]
  },
  {
   "cell_type": "markdown",
   "id": "bfc32875",
   "metadata": {},
   "source": [
    "### 3. 统计运算\n",
    "- `tf.reduce_sum`：求和\n",
    "- `tf.reduce_mean`：求均值\n",
    "- `tf.reduce_max`：求最大值\n",
    "- `tf.reduce_min`：求最小值"
   ]
  },
  {
   "cell_type": "code",
   "execution_count": 13,
   "id": "90b67402",
   "metadata": {},
   "outputs": [
    {
     "name": "stdout",
     "output_type": "stream",
     "text": [
      "总和: 21.0\n",
      "均值: 3.5\n",
      "最大值: 6.0\n",
      "最小值: 1.0\n"
     ]
    }
   ],
   "source": [
    "# 创建张量\n",
    "tensor = tf.constant([[1, 2, 3], [4, 5, 6]], dtype=tf.float32)\n",
    "\n",
    "# 统计运算\n",
    "sum_result = tf.reduce_sum(tensor)  # 求和\n",
    "mean_result = tf.reduce_mean(tensor)  # 求均值\n",
    "max_result = tf.reduce_max(tensor)  # 求最大值\n",
    "min_result = tf.reduce_min(tensor)  # 求最小值\n",
    "\n",
    "print(\"总和:\", sum_result.numpy())\n",
    "print(\"均值:\", mean_result.numpy())\n",
    "print(\"最大值:\", max_result.numpy())\n",
    "print(\"最小值:\", min_result.numpy())"
   ]
  },
  {
   "cell_type": "markdown",
   "id": "3fff4b7b",
   "metadata": {},
   "source": [
    "### 4. 广播机制\n",
    "TensorFlow 支持广播机制，可以对不同形状的张量进行运算。"
   ]
  },
  {
   "cell_type": "code",
   "execution_count": 14,
   "id": "90575906",
   "metadata": {},
   "outputs": [
    {
     "name": "stdout",
     "output_type": "stream",
     "text": [
      "广播加法结果:\n",
      " [[2. 3. 4.]\n",
      " [3. 4. 5.]\n",
      " [4. 5. 6.]]\n"
     ]
    }
   ],
   "source": [
    "# 广播机制示例\n",
    "x = tf.constant([[1, 2, 3]], dtype=tf.float32)  # 形状为 (1, 3)\n",
    "y = tf.constant([[1], [2], [3]], dtype=tf.float32)  # 形状为 (3, 1)\n",
    "\n",
    "broadcast_result = tf.add(x, y)  # 广播加法\n",
    "\n",
    "print(\"广播加法结果:\\n\", broadcast_result.numpy())"
   ]
  },
  {
   "cell_type": "markdown",
   "id": "da53347b",
   "metadata": {},
   "source": [
    "### 5. 激活函数\n",
    "- `tf.nn.relu`：ReLU 激活函数\n",
    "- `tf.nn.sigmoid`：Sigmoid 激活函数\n",
    "- `tf.nn.tanh`：Tanh 激活函数"
   ]
  },
  {
   "cell_type": "code",
   "execution_count": 17,
   "id": "1fcb9d8b",
   "metadata": {},
   "outputs": [
    {
     "name": "stdout",
     "output_type": "stream",
     "text": [
      "ReLU 结果: [0. 0. 1.]\n",
      "Sigmoid 结果: [0.26894143 0.5        0.7310586 ]\n",
      "Tanh 结果: [-0.7615942  0.         0.7615942]\n"
     ]
    }
   ],
   "source": [
    "# 创建张量\n",
    "z = tf.constant([-1.0, 0.0, 1.0], dtype=tf.float32)\n",
    "\n",
    "# 激活函数\n",
    "relu_result = tf.nn.relu(z)  # ReLU\n",
    "sigmoid_result = tf.nn.sigmoid(z)  # Sigmoid\n",
    "tanh_result = tf.nn.tanh(z)  # Tanh\n",
    "\n",
    "print(\"ReLU 结果:\", relu_result.numpy())\n",
    "print(\"Sigmoid 结果:\", sigmoid_result.numpy())\n",
    "print(\"Tanh 结果:\", tanh_result.numpy())"
   ]
  },
  {
   "cell_type": "markdown",
   "id": "7b98a716",
   "metadata": {},
   "source": [
    "### 6. TensorFlow 中的初等函数\n",
    "TensorFlow 提供了许多初等函数用于数学计算，例如指数、对数、幂函数、三角函数等。以下是一些常用初等函数的介绍及其应用示例：\n",
    "- `tf.math.exp`：计算指数\n",
    "- `tf.math.log`：计算自然对数\n",
    "- `tf.math.pow`：计算幂\n",
    "- `tf.math.sqrt`：计算平方根\n",
    "- `tf.math.sin`：计算正弦\n",
    "- `tf.math.cos`：计算余弦\n",
    "- `tf.math.tan`：计算正切"
   ]
  },
  {
   "cell_type": "code",
   "execution_count": 16,
   "id": "44ee398e",
   "metadata": {},
   "outputs": [
    {
     "name": "stdout",
     "output_type": "stream",
     "text": [
      "指数函数结果 (e^a): [ 2.7182817  7.389056  20.085537 ]\n",
      "自然对数结果 (ln(b)): [1.3862944 1.609438  1.7917595]\n",
      "幂函数结果 (a^2): [1. 4. 9.]\n",
      "平方根结果 (sqrt(b)): [2.        2.236068  2.4494898]\n",
      "正弦结果 (sin(a)): [0.84147096 0.9092974  0.14112   ]\n",
      "余弦结果 (cos(a)): [ 0.5403023  -0.41614684 -0.9899925 ]\n",
      "正切结果 (tan(a)): [ 1.5574077  -2.1850398  -0.14254655]\n"
     ]
    }
   ],
   "source": [
    "# TensorFlow 初等函数示例\n",
    "\n",
    "# 指数函数\n",
    "exp_result = tf.math.exp(a)  # 计算 e^a\n",
    "print(\"指数函数结果 (e^a):\", exp_result.numpy())\n",
    "\n",
    "# 自然对数函数\n",
    "log_result = tf.math.log(b)  # 计算 ln(b)\n",
    "print(\"自然对数结果 (ln(b)):\", log_result.numpy())\n",
    "\n",
    "# 幂函数\n",
    "pow_result = tf.math.pow(a, 2)  # 计算 a^2\n",
    "print(\"幂函数结果 (a^2):\", pow_result.numpy())\n",
    "\n",
    "# 平方根函数\n",
    "sqrt_result = tf.math.sqrt(b)  # 计算 b 的平方根\n",
    "print(\"平方根结果 (sqrt(b)):\", sqrt_result.numpy())\n",
    "\n",
    "# 三角函数\n",
    "sin_result = tf.math.sin(a)  # 计算正弦\n",
    "cos_result = tf.math.cos(a)  # 计算余弦\n",
    "tan_result = tf.math.tan(a)  # 计算正切\n",
    "\n",
    "print(\"正弦结果 (sin(a)):\", sin_result.numpy())\n",
    "print(\"余弦结果 (cos(a)):\", cos_result.numpy())\n",
    "print(\"正切结果 (tan(a)):\", tan_result.numpy())"
   ]
  }
 ],
 "metadata": {
  "kernelspec": {
   "display_name": "tf",
   "language": "python",
   "name": "python3"
  },
  "language_info": {
   "codemirror_mode": {
    "name": "ipython",
    "version": 3
   },
   "file_extension": ".py",
   "mimetype": "text/x-python",
   "name": "python",
   "nbconvert_exporter": "python",
   "pygments_lexer": "ipython3",
   "version": "3.10.13"
  }
 },
 "nbformat": 4,
 "nbformat_minor": 5
}
